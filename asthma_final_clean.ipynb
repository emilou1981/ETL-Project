{
 "cells": [
  {
   "cell_type": "markdown",
   "metadata": {},
   "source": [
    "# This is the final clean up work\n",
    "This is the work prior to loading.  It would be \n",
    "grouping, sorting, stats etc.  It also includes\n",
    "modifying any column names with special chars.\n"
   ]
  },
  {
   "cell_type": "code",
   "execution_count": 1,
   "metadata": {},
   "outputs": [],
   "source": [
    "import pandas as pd\n",
    "import os\n",
    "\n",
    "input_dir = 'input_data'\n",
    "landing_dir = 'landing_data'\n",
    "cleaned_dir = 'cleaned_data'"
   ]
  },
  {
   "cell_type": "code",
   "execution_count": null,
   "metadata": {},
   "outputs": [],
   "source": []
  },
  {
   "cell_type": "code",
   "execution_count": 3,
   "metadata": {},
   "outputs": [
    {
     "data": {
      "text/html": [
       "<div>\n",
       "<style scoped>\n",
       "    .dataframe tbody tr th:only-of-type {\n",
       "        vertical-align: middle;\n",
       "    }\n",
       "\n",
       "    .dataframe tbody tr th {\n",
       "        vertical-align: top;\n",
       "    }\n",
       "\n",
       "    .dataframe thead th {\n",
       "        text-align: right;\n",
       "    }\n",
       "</style>\n",
       "<table border=\"1\" class=\"dataframe\">\n",
       "  <thead>\n",
       "    <tr style=\"text-align: right;\">\n",
       "      <th></th>\n",
       "      <th>Asthma Sample Size</th>\n",
       "      <th>Asthma Prevalence (%)</th>\n",
       "      <th>Standard Error</th>\n",
       "      <th>95% CI* (%)</th>\n",
       "      <th>Year</th>\n",
       "    </tr>\n",
       "  </thead>\n",
       "  <tbody>\n",
       "    <tr>\n",
       "      <th>0</th>\n",
       "      <td>4564.0</td>\n",
       "      <td>14.8</td>\n",
       "      <td>0.83</td>\n",
       "      <td>(13.2 – 16.4)</td>\n",
       "      <td>2013</td>\n",
       "    </tr>\n",
       "    <tr>\n",
       "      <th>1</th>\n",
       "      <td>4375.0</td>\n",
       "      <td>12.4</td>\n",
       "      <td>0.70</td>\n",
       "      <td>(11.1 – 13.8)</td>\n",
       "      <td>2014</td>\n",
       "    </tr>\n",
       "    <tr>\n",
       "      <th>2</th>\n",
       "      <td>3642.0</td>\n",
       "      <td>13.4</td>\n",
       "      <td>1.02</td>\n",
       "      <td>(11.4 – 15.4)</td>\n",
       "      <td>2015</td>\n",
       "    </tr>\n",
       "    <tr>\n",
       "      <th>3</th>\n",
       "      <td>2906.0</td>\n",
       "      <td>14.2</td>\n",
       "      <td>1.08</td>\n",
       "      <td>(12.1–16.4)</td>\n",
       "      <td>2016</td>\n",
       "    </tr>\n",
       "    <tr>\n",
       "      <th>4</th>\n",
       "      <td>6484.0</td>\n",
       "      <td>13.6</td>\n",
       "      <td>0.61</td>\n",
       "      <td>(12.4 – 14.8)</td>\n",
       "      <td>2013</td>\n",
       "    </tr>\n",
       "  </tbody>\n",
       "</table>\n",
       "</div>"
      ],
      "text/plain": [
       "   Asthma Sample Size  Asthma Prevalence (%)  Standard Error    95% CI* (%)  \\\n",
       "0              4564.0                   14.8            0.83  (13.2 – 16.4)   \n",
       "1              4375.0                   12.4            0.70  (11.1 – 13.8)   \n",
       "2              3642.0                   13.4            1.02  (11.4 – 15.4)   \n",
       "3              2906.0                   14.2            1.08    (12.1–16.4)   \n",
       "4              6484.0                   13.6            0.61  (12.4 – 14.8)   \n",
       "\n",
       "   Year  \n",
       "0  2013  \n",
       "1  2014  \n",
       "2  2015  \n",
       "3  2016  \n",
       "4  2013  "
      ]
     },
     "execution_count": 3,
     "metadata": {},
     "output_type": "execute_result"
    }
   ],
   "source": [
    "input_file = os.path.join( landing_dir, 'Asthma.csv')\n",
    "asthma_df = pd.read_csv(input_file)\n",
    "asthma_df.head()\n"
   ]
  },
  {
   "cell_type": "code",
   "execution_count": null,
   "metadata": {},
   "outputs": [],
   "source": [
    "#- modify column names for database use.\n"
   ]
  },
  {
   "cell_type": "code",
   "execution_count": 5,
   "metadata": {},
   "outputs": [],
   "source": [
    "output_file = os.path.join( cleaned_dir, 'cleaned_Asthma.csv')\n",
    "asthma_df.to_csv(output_file, index=False)\n"
   ]
  },
  {
   "cell_type": "code",
   "execution_count": null,
   "metadata": {},
   "outputs": [],
   "source": []
  }
 ],
 "metadata": {
  "kernelspec": {
   "display_name": "Python [conda env:pandas] *",
   "language": "python",
   "name": "conda-env-pandas-py"
  },
  "language_info": {
   "codemirror_mode": {
    "name": "ipython",
    "version": 3
   },
   "file_extension": ".py",
   "mimetype": "text/x-python",
   "name": "python",
   "nbconvert_exporter": "python",
   "pygments_lexer": "ipython3",
   "version": "3.6.9"
  }
 },
 "nbformat": 4,
 "nbformat_minor": 2
}
